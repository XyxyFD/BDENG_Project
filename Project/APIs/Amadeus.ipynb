{
 "cells": [
  {
   "cell_type": "code",
   "execution_count": 1,
   "id": "initial_id",
   "metadata": {
    "ExecuteTime": {
     "end_time": "2025-06-08T16:41:45.836431Z",
     "start_time": "2025-06-08T16:41:42.120664Z"
    },
    "collapsed": true
   },
   "outputs": [
    {
     "name": "stdout",
     "output_type": "stream",
     "text": [
      "Requirement already satisfied: requests in /Users/christophblank/opt/anaconda3/lib/python3.8/site-packages (2.32.3)\r\n",
      "Requirement already satisfied: pandas in /Users/christophblank/opt/anaconda3/lib/python3.8/site-packages (2.0.3)\r\n",
      "Collecting python-dotenv\r\n",
      "  Downloading python_dotenv-1.0.1-py3-none-any.whl (19 kB)\r\n",
      "Requirement already satisfied: tzdata>=2022.1 in /Users/christophblank/opt/anaconda3/lib/python3.8/site-packages (from pandas) (2025.1)\r\n",
      "Requirement already satisfied: pytz>=2020.1 in /Users/christophblank/opt/anaconda3/lib/python3.8/site-packages (from pandas) (2021.1)\r\n",
      "Requirement already satisfied: python-dateutil>=2.8.2 in /Users/christophblank/opt/anaconda3/lib/python3.8/site-packages (from pandas) (2.9.0.post0)\r\n",
      "Requirement already satisfied: numpy>=1.20.3 in /Users/christophblank/opt/anaconda3/lib/python3.8/site-packages (from pandas) (1.22.4)\r\n",
      "Requirement already satisfied: six>=1.5 in /Users/christophblank/opt/anaconda3/lib/python3.8/site-packages (from python-dateutil>=2.8.2->pandas) (1.15.0)\r\n",
      "Requirement already satisfied: charset-normalizer<4,>=2 in /Users/christophblank/opt/anaconda3/lib/python3.8/site-packages (from requests) (3.4.1)\r\n",
      "Requirement already satisfied: urllib3<3,>=1.21.1 in /Users/christophblank/opt/anaconda3/lib/python3.8/site-packages (from requests) (1.26.4)\r\n",
      "Requirement already satisfied: certifi>=2017.4.17 in /Users/christophblank/opt/anaconda3/lib/python3.8/site-packages (from requests) (2020.12.5)\r\n",
      "Requirement already satisfied: idna<4,>=2.5 in /Users/christophblank/opt/anaconda3/lib/python3.8/site-packages (from requests) (2.10)\r\n",
      "Installing collected packages: python-dotenv\r\n",
      "Successfully installed python-dotenv-1.0.1\r\n",
      "Note: you may need to restart the kernel to use updated packages.\n"
     ]
    }
   ],
   "source": [
    "%pip install requests pandas python-dotenv"
   ]
  },
  {
   "cell_type": "code",
   "execution_count": 32,
   "id": "883c0103b1a29666",
   "metadata": {
    "ExecuteTime": {
     "end_time": "2025-06-08T17:07:49.150793Z",
     "start_time": "2025-06-08T17:07:49.146181Z"
    }
   },
   "outputs": [],
   "source": [
    "import os\n",
    "import itertools\n",
    "from datetime import datetime, timedelta, date\n",
    "\n",
    "import requests\n",
    "import pandas as pd"
   ]
  },
  {
   "cell_type": "code",
   "execution_count": 38,
   "id": "53beb519919e9b6c",
   "metadata": {
    "ExecuteTime": {
     "end_time": "2025-06-08T17:12:23.408990Z",
     "start_time": "2025-06-08T17:12:23.386645Z"
    }
   },
   "outputs": [
    {
     "name": "stdout",
     "output_type": "stream",
     "text": [
      "Verwende test-Endpoint für Token: https://test.api.amadeus.com/v1/security/oauth2/token\n",
      "Abfragen für 159 Tage von 2025-01-01 bis 2025-06-08 für 24 Städte.\n"
     ]
    }
   ],
   "source": [
    "token_env = 'test'\n",
    "\n",
    "AMADEUS_CLIENT_ID = 'o3NmGGegeKqA4pS5IXXyuu9YEb5iGsD3'\n",
    "AMADEUS_CLIENT_SECRET = '57oIRKGwGNNRHm6C'\n",
    "\n",
    "# Token- und Offers-Endpoints\n",
    "if token_env == 'test':\n",
    "    token_url = 'https://test.api.amadeus.com/v1/security/oauth2/token'\n",
    "    offers_url = 'https://test.api.amadeus.com/v2/shopping/flight-offers'\n",
    "else:\n",
    "    token_url = 'https://api.amadeus.com/v1/security/oauth2/token'\n",
    "    offers_url = 'https://api.amadeus.com/v2/shopping/flight-offers'\n",
    "\n",
    "print(f\"Verwende {token_env}-Endpoint für Token: {token_url}\")\n",
    "\n",
    "# Zeitraum: 1. Januar 2025 bis heute\n",
    "dt_start = date(2025, 1, 1)\n",
    "dt_end = datetime.utcnow().date()\n",
    "dates = [(dt_start + timedelta(days=i)).isoformat() for i in range((dt_end - dt_start).days + 1)]\n",
    "\n",
    "# IATA-Codes für Abfragen\n",
    "iata_codes = [\n",
    "    \"IST\", \"BER\", \"LHR\", \"CDG\", \"FCO\", \"MAD\", \"KBP\", \"WAW\",\n",
    "    \"OTP\", \"AMS\", \"ARN\", \"BRU\", \"ATH\", \"PRG\", \"LIS\", \"BUD\",\n",
    "    \"BEG\", \"VIE\", \"ZRH\", \"SOF\", \"CPH\", \"HEL\", \"OSL\", \"DUB\",\n",
    "]\n",
    "\n",
    "print(f\"Abfragen für {len(dates)} Tage von {dt_start} bis {dt_end} für {len(iata_codes)} Städte.\")"
   ]
  },
  {
   "cell_type": "code",
   "execution_count": 39,
   "id": "858d180470809850",
   "metadata": {
    "ExecuteTime": {
     "end_time": "2025-06-08T17:12:29.821099Z",
     "start_time": "2025-06-08T17:12:29.807050Z"
    }
   },
   "outputs": [],
   "source": [
    "# OAuth2-Token von Amadeus abrufen\n",
    "def get_access_token(client_id: str, client_secret: str) -> str:\n",
    "    data = {'grant_type': 'client_credentials'}\n",
    "    if AMADEUS_ENV == 'test':\n",
    "        # Sandbox: Form-Params\n",
    "        resp = requests.post(token_url, data={**data, 'client_id': client_id, 'client_secret': client_secret},\n",
    "                             headers={'Content-Type': 'application/x-www-form-urlencoded'})\n",
    "    else:\n",
    "        # Produktion: Basic Auth\n",
    "        resp = requests.post(token_url, data=data, auth=(client_id, client_secret))\n",
    "    if resp.status_code != 200:\n",
    "        try:\n",
    "            err = resp.json()\n",
    "            desc = err.get('error_description') or err.get('description') or resp.text\n",
    "        except ValueError:\n",
    "            desc = resp.text\n",
    "        raise RuntimeError(f\"Token-Fehler ({resp.status_code}): {desc}\")\n",
    "    token_json = resp.json()\n",
    "    access_token = token_json.get('access_token')\n",
    "    if not access_token:\n",
    "        raise RuntimeError(f\"Kein access_token erhalten: {token_json}\")\n",
    "    return access_token\n"
   ]
  },
  {
   "cell_type": "code",
   "execution_count": 40,
   "id": "44bc0e6a64a04404",
   "metadata": {
    "ExecuteTime": {
     "end_time": "2025-06-08T17:12:32.429569Z",
     "start_time": "2025-06-08T17:12:32.420669Z"
    }
   },
   "outputs": [],
   "source": [
    "def get_flight_prices(token: str, origin: str, destination: str, departure_date: str) -> dict:\n",
    "    url = 'https://test.api.amadeus.com/v2/shopping/flight-offers'\n",
    "    headers = {'Authorization': f'Bearer {token}'}\n",
    "    params = {\n",
    "        'originLocationCode': origin,\n",
    "        'destinationLocationCode': destination,\n",
    "        'departureDate': departure_date,\n",
    "        'adults': 1,\n",
    "        'currencyCode': 'EUR',\n",
    "        'max': 250\n",
    "    }\n",
    "    resp = requests.get(url, headers=headers, params=params)\n",
    "    resp.raise_for_status()\n",
    "    return resp.json()"
   ]
  },
  {
   "cell_type": "code",
   "execution_count": 42,
   "id": "486270058fef11a8",
   "metadata": {
    "ExecuteTime": {
     "end_time": "2025-06-08T17:12:36.131865Z",
     "start_time": "2025-06-08T17:12:36.123516Z"
    }
   },
   "outputs": [],
   "source": [
    "def parse_response(data: dict) -> list:\n",
    "    records = []\n",
    "    for offer in data.get('data', []):\n",
    "        price_info = offer.get('price', {})\n",
    "        itineraries = offer.get('itineraries', [])\n",
    "        if not itineraries:\n",
    "            continue\n",
    "        segments = itineraries[0].get('segments', [])\n",
    "        if not segments:\n",
    "            continue\n",
    "        rec = {\n",
    "            'FetchedAt': datetime.utcnow().isoformat(),\n",
    "            'Origin': segments[0]['departure']['iataCode'],\n",
    "            'Destination': segments[-1]['arrival']['iataCode'],\n",
    "            'DepartureDate': segments[0]['departure']['at'],\n",
    "            'MinPrice': price_info.get('total'),\n",
    "            'Currency': price_info.get('currency'),\n",
    "            'NumberOfSegments': len(segments)\n",
    "        }\n",
    "        records.append(rec)\n",
    "    return records"
   ]
  },
  {
   "cell_type": "code",
   "execution_count": 43,
   "id": "9a19c50a6387ad8d",
   "metadata": {
    "ExecuteTime": {
     "end_time": "2025-06-08T18:07:57.939626Z",
     "start_time": "2025-06-08T17:12:40.603355Z"
    }
   },
   "outputs": [
    {
     "name": "stdout",
     "output_type": "stream",
     "text": [
      "IST: 13 Datensätze gesammelt\n",
      "IST: 24 Datensätze gesammelt\n",
      "IST: 47 Datensätze gesammelt\n",
      "IST: 61 Datensätze gesammelt\n",
      "IST: 76 Datensätze gesammelt\n",
      "IST: 76 Datensätze gesammelt\n",
      "IST: 85 Datensätze gesammelt\n",
      "IST: 97 Datensätze gesammelt\n",
      "IST: 109 Datensätze gesammelt\n",
      "IST: 117 Datensätze gesammelt\n",
      "IST: 126 Datensätze gesammelt\n",
      "IST: 136 Datensätze gesammelt\n",
      "IST: 147 Datensätze gesammelt\n",
      "IST: 147 Datensätze gesammelt\n",
      "IST: 147 Datensätze gesammelt\n",
      "IST: 147 Datensätze gesammelt\n",
      "IST: 147 Datensätze gesammelt\n",
      "IST: 147 Datensätze gesammelt\n",
      "IST: 147 Datensätze gesammelt\n"
     ]
    },
    {
     "ename": "KeyboardInterrupt",
     "evalue": "",
     "output_type": "error",
     "traceback": [
      "\u001b[0;31m---------------------------------------------------------------------------\u001b[0m",
      "\u001b[0;31mKeyboardInterrupt\u001b[0m                         Traceback (most recent call last)",
      "\u001b[0;32m<ipython-input-43-fae6226119e6>\u001b[0m in \u001b[0;36m<module>\u001b[0;34m\u001b[0m\n\u001b[1;32m      5\u001b[0m     \u001b[0;32mfor\u001b[0m \u001b[0md\u001b[0m \u001b[0;32min\u001b[0m \u001b[0mdates\u001b[0m\u001b[0;34m:\u001b[0m\u001b[0;34m\u001b[0m\u001b[0;34m\u001b[0m\u001b[0m\n\u001b[1;32m      6\u001b[0m         \u001b[0;32mtry\u001b[0m\u001b[0;34m:\u001b[0m\u001b[0;34m\u001b[0m\u001b[0;34m\u001b[0m\u001b[0m\n\u001b[0;32m----> 7\u001b[0;31m             \u001b[0mdata\u001b[0m \u001b[0;34m=\u001b[0m \u001b[0mget_flight_prices\u001b[0m\u001b[0;34m(\u001b[0m\u001b[0mtoken\u001b[0m\u001b[0;34m,\u001b[0m \u001b[0morigin\u001b[0m\u001b[0;34m,\u001b[0m \u001b[0mdestination\u001b[0m\u001b[0;34m,\u001b[0m \u001b[0md\u001b[0m\u001b[0;34m)\u001b[0m\u001b[0;34m\u001b[0m\u001b[0;34m\u001b[0m\u001b[0m\n\u001b[0m\u001b[1;32m      8\u001b[0m             \u001b[0mrecs\u001b[0m \u001b[0;34m=\u001b[0m \u001b[0mparse_response\u001b[0m\u001b[0;34m(\u001b[0m\u001b[0mdata\u001b[0m\u001b[0;34m)\u001b[0m\u001b[0;34m\u001b[0m\u001b[0;34m\u001b[0m\u001b[0m\n\u001b[1;32m      9\u001b[0m             \u001b[0;32mif\u001b[0m \u001b[0mrecs\u001b[0m\u001b[0;34m:\u001b[0m\u001b[0;34m\u001b[0m\u001b[0;34m\u001b[0m\u001b[0m\n",
      "\u001b[0;32m<ipython-input-40-8fd37a109f61>\u001b[0m in \u001b[0;36mget_flight_prices\u001b[0;34m(token, origin, destination, departure_date)\u001b[0m\n\u001b[1;32m     10\u001b[0m         \u001b[0;34m'max'\u001b[0m\u001b[0;34m:\u001b[0m \u001b[0;36m250\u001b[0m\u001b[0;34m\u001b[0m\u001b[0;34m\u001b[0m\u001b[0m\n\u001b[1;32m     11\u001b[0m     }\n\u001b[0;32m---> 12\u001b[0;31m     \u001b[0mresp\u001b[0m \u001b[0;34m=\u001b[0m \u001b[0mrequests\u001b[0m\u001b[0;34m.\u001b[0m\u001b[0mget\u001b[0m\u001b[0;34m(\u001b[0m\u001b[0murl\u001b[0m\u001b[0;34m,\u001b[0m \u001b[0mheaders\u001b[0m\u001b[0;34m=\u001b[0m\u001b[0mheaders\u001b[0m\u001b[0;34m,\u001b[0m \u001b[0mparams\u001b[0m\u001b[0;34m=\u001b[0m\u001b[0mparams\u001b[0m\u001b[0;34m)\u001b[0m\u001b[0;34m\u001b[0m\u001b[0;34m\u001b[0m\u001b[0m\n\u001b[0m\u001b[1;32m     13\u001b[0m     \u001b[0mresp\u001b[0m\u001b[0;34m.\u001b[0m\u001b[0mraise_for_status\u001b[0m\u001b[0;34m(\u001b[0m\u001b[0;34m)\u001b[0m\u001b[0;34m\u001b[0m\u001b[0;34m\u001b[0m\u001b[0m\n\u001b[1;32m     14\u001b[0m     \u001b[0;32mreturn\u001b[0m \u001b[0mresp\u001b[0m\u001b[0;34m.\u001b[0m\u001b[0mjson\u001b[0m\u001b[0;34m(\u001b[0m\u001b[0;34m)\u001b[0m\u001b[0;34m\u001b[0m\u001b[0;34m\u001b[0m\u001b[0m\n",
      "\u001b[0;32m~/opt/anaconda3/lib/python3.8/site-packages/requests/api.py\u001b[0m in \u001b[0;36mget\u001b[0;34m(url, params, **kwargs)\u001b[0m\n\u001b[1;32m     71\u001b[0m     \"\"\"\n\u001b[1;32m     72\u001b[0m \u001b[0;34m\u001b[0m\u001b[0m\n\u001b[0;32m---> 73\u001b[0;31m     \u001b[0;32mreturn\u001b[0m \u001b[0mrequest\u001b[0m\u001b[0;34m(\u001b[0m\u001b[0;34m\"get\"\u001b[0m\u001b[0;34m,\u001b[0m \u001b[0murl\u001b[0m\u001b[0;34m,\u001b[0m \u001b[0mparams\u001b[0m\u001b[0;34m=\u001b[0m\u001b[0mparams\u001b[0m\u001b[0;34m,\u001b[0m \u001b[0;34m**\u001b[0m\u001b[0mkwargs\u001b[0m\u001b[0;34m)\u001b[0m\u001b[0;34m\u001b[0m\u001b[0;34m\u001b[0m\u001b[0m\n\u001b[0m\u001b[1;32m     74\u001b[0m \u001b[0;34m\u001b[0m\u001b[0m\n\u001b[1;32m     75\u001b[0m \u001b[0;34m\u001b[0m\u001b[0m\n",
      "\u001b[0;32m~/opt/anaconda3/lib/python3.8/site-packages/requests/api.py\u001b[0m in \u001b[0;36mrequest\u001b[0;34m(method, url, **kwargs)\u001b[0m\n\u001b[1;32m     57\u001b[0m     \u001b[0;31m# cases, and look like a memory leak in others.\u001b[0m\u001b[0;34m\u001b[0m\u001b[0;34m\u001b[0m\u001b[0;34m\u001b[0m\u001b[0m\n\u001b[1;32m     58\u001b[0m     \u001b[0;32mwith\u001b[0m \u001b[0msessions\u001b[0m\u001b[0;34m.\u001b[0m\u001b[0mSession\u001b[0m\u001b[0;34m(\u001b[0m\u001b[0;34m)\u001b[0m \u001b[0;32mas\u001b[0m \u001b[0msession\u001b[0m\u001b[0;34m:\u001b[0m\u001b[0;34m\u001b[0m\u001b[0;34m\u001b[0m\u001b[0m\n\u001b[0;32m---> 59\u001b[0;31m         \u001b[0;32mreturn\u001b[0m \u001b[0msession\u001b[0m\u001b[0;34m.\u001b[0m\u001b[0mrequest\u001b[0m\u001b[0;34m(\u001b[0m\u001b[0mmethod\u001b[0m\u001b[0;34m=\u001b[0m\u001b[0mmethod\u001b[0m\u001b[0;34m,\u001b[0m \u001b[0murl\u001b[0m\u001b[0;34m=\u001b[0m\u001b[0murl\u001b[0m\u001b[0;34m,\u001b[0m \u001b[0;34m**\u001b[0m\u001b[0mkwargs\u001b[0m\u001b[0;34m)\u001b[0m\u001b[0;34m\u001b[0m\u001b[0;34m\u001b[0m\u001b[0m\n\u001b[0m\u001b[1;32m     60\u001b[0m \u001b[0;34m\u001b[0m\u001b[0m\n\u001b[1;32m     61\u001b[0m \u001b[0;34m\u001b[0m\u001b[0m\n",
      "\u001b[0;32m~/opt/anaconda3/lib/python3.8/site-packages/requests/sessions.py\u001b[0m in \u001b[0;36mrequest\u001b[0;34m(self, method, url, params, data, headers, cookies, files, auth, timeout, allow_redirects, proxies, hooks, stream, verify, cert, json)\u001b[0m\n\u001b[1;32m    587\u001b[0m         }\n\u001b[1;32m    588\u001b[0m         \u001b[0msend_kwargs\u001b[0m\u001b[0;34m.\u001b[0m\u001b[0mupdate\u001b[0m\u001b[0;34m(\u001b[0m\u001b[0msettings\u001b[0m\u001b[0;34m)\u001b[0m\u001b[0;34m\u001b[0m\u001b[0;34m\u001b[0m\u001b[0m\n\u001b[0;32m--> 589\u001b[0;31m         \u001b[0mresp\u001b[0m \u001b[0;34m=\u001b[0m \u001b[0mself\u001b[0m\u001b[0;34m.\u001b[0m\u001b[0msend\u001b[0m\u001b[0;34m(\u001b[0m\u001b[0mprep\u001b[0m\u001b[0;34m,\u001b[0m \u001b[0;34m**\u001b[0m\u001b[0msend_kwargs\u001b[0m\u001b[0;34m)\u001b[0m\u001b[0;34m\u001b[0m\u001b[0;34m\u001b[0m\u001b[0m\n\u001b[0m\u001b[1;32m    590\u001b[0m \u001b[0;34m\u001b[0m\u001b[0m\n\u001b[1;32m    591\u001b[0m         \u001b[0;32mreturn\u001b[0m \u001b[0mresp\u001b[0m\u001b[0;34m\u001b[0m\u001b[0;34m\u001b[0m\u001b[0m\n",
      "\u001b[0;32m~/opt/anaconda3/lib/python3.8/site-packages/requests/sessions.py\u001b[0m in \u001b[0;36msend\u001b[0;34m(self, request, **kwargs)\u001b[0m\n\u001b[1;32m    701\u001b[0m \u001b[0;34m\u001b[0m\u001b[0m\n\u001b[1;32m    702\u001b[0m         \u001b[0;31m# Send the request\u001b[0m\u001b[0;34m\u001b[0m\u001b[0;34m\u001b[0m\u001b[0;34m\u001b[0m\u001b[0m\n\u001b[0;32m--> 703\u001b[0;31m         \u001b[0mr\u001b[0m \u001b[0;34m=\u001b[0m \u001b[0madapter\u001b[0m\u001b[0;34m.\u001b[0m\u001b[0msend\u001b[0m\u001b[0;34m(\u001b[0m\u001b[0mrequest\u001b[0m\u001b[0;34m,\u001b[0m \u001b[0;34m**\u001b[0m\u001b[0mkwargs\u001b[0m\u001b[0;34m)\u001b[0m\u001b[0;34m\u001b[0m\u001b[0;34m\u001b[0m\u001b[0m\n\u001b[0m\u001b[1;32m    704\u001b[0m \u001b[0;34m\u001b[0m\u001b[0m\n\u001b[1;32m    705\u001b[0m         \u001b[0;31m# Total elapsed time of the request (approximately)\u001b[0m\u001b[0;34m\u001b[0m\u001b[0;34m\u001b[0m\u001b[0;34m\u001b[0m\u001b[0m\n",
      "\u001b[0;32m~/opt/anaconda3/lib/python3.8/site-packages/requests/adapters.py\u001b[0m in \u001b[0;36msend\u001b[0;34m(self, request, stream, timeout, verify, cert, proxies)\u001b[0m\n\u001b[1;32m    665\u001b[0m \u001b[0;34m\u001b[0m\u001b[0m\n\u001b[1;32m    666\u001b[0m         \u001b[0;32mtry\u001b[0m\u001b[0;34m:\u001b[0m\u001b[0;34m\u001b[0m\u001b[0;34m\u001b[0m\u001b[0m\n\u001b[0;32m--> 667\u001b[0;31m             resp = conn.urlopen(\n\u001b[0m\u001b[1;32m    668\u001b[0m                 \u001b[0mmethod\u001b[0m\u001b[0;34m=\u001b[0m\u001b[0mrequest\u001b[0m\u001b[0;34m.\u001b[0m\u001b[0mmethod\u001b[0m\u001b[0;34m,\u001b[0m\u001b[0;34m\u001b[0m\u001b[0;34m\u001b[0m\u001b[0m\n\u001b[1;32m    669\u001b[0m                 \u001b[0murl\u001b[0m\u001b[0;34m=\u001b[0m\u001b[0murl\u001b[0m\u001b[0;34m,\u001b[0m\u001b[0;34m\u001b[0m\u001b[0;34m\u001b[0m\u001b[0m\n",
      "\u001b[0;32m~/opt/anaconda3/lib/python3.8/site-packages/urllib3/connectionpool.py\u001b[0m in \u001b[0;36murlopen\u001b[0;34m(self, method, url, body, headers, retries, redirect, assert_same_host, timeout, pool_timeout, release_conn, chunked, body_pos, **response_kw)\u001b[0m\n\u001b[1;32m    697\u001b[0m \u001b[0;34m\u001b[0m\u001b[0m\n\u001b[1;32m    698\u001b[0m             \u001b[0;31m# Make the request on the httplib connection object.\u001b[0m\u001b[0;34m\u001b[0m\u001b[0;34m\u001b[0m\u001b[0;34m\u001b[0m\u001b[0m\n\u001b[0;32m--> 699\u001b[0;31m             httplib_response = self._make_request(\n\u001b[0m\u001b[1;32m    700\u001b[0m                 \u001b[0mconn\u001b[0m\u001b[0;34m,\u001b[0m\u001b[0;34m\u001b[0m\u001b[0;34m\u001b[0m\u001b[0m\n\u001b[1;32m    701\u001b[0m                 \u001b[0mmethod\u001b[0m\u001b[0;34m,\u001b[0m\u001b[0;34m\u001b[0m\u001b[0;34m\u001b[0m\u001b[0m\n",
      "\u001b[0;32m~/opt/anaconda3/lib/python3.8/site-packages/urllib3/connectionpool.py\u001b[0m in \u001b[0;36m_make_request\u001b[0;34m(self, conn, method, url, timeout, chunked, **httplib_request_kw)\u001b[0m\n\u001b[1;32m    380\u001b[0m         \u001b[0;31m# Trigger any extra validation we need to do.\u001b[0m\u001b[0;34m\u001b[0m\u001b[0;34m\u001b[0m\u001b[0;34m\u001b[0m\u001b[0m\n\u001b[1;32m    381\u001b[0m         \u001b[0;32mtry\u001b[0m\u001b[0;34m:\u001b[0m\u001b[0;34m\u001b[0m\u001b[0;34m\u001b[0m\u001b[0m\n\u001b[0;32m--> 382\u001b[0;31m             \u001b[0mself\u001b[0m\u001b[0;34m.\u001b[0m\u001b[0m_validate_conn\u001b[0m\u001b[0;34m(\u001b[0m\u001b[0mconn\u001b[0m\u001b[0;34m)\u001b[0m\u001b[0;34m\u001b[0m\u001b[0;34m\u001b[0m\u001b[0m\n\u001b[0m\u001b[1;32m    383\u001b[0m         \u001b[0;32mexcept\u001b[0m \u001b[0;34m(\u001b[0m\u001b[0mSocketTimeout\u001b[0m\u001b[0;34m,\u001b[0m \u001b[0mBaseSSLError\u001b[0m\u001b[0;34m)\u001b[0m \u001b[0;32mas\u001b[0m \u001b[0me\u001b[0m\u001b[0;34m:\u001b[0m\u001b[0;34m\u001b[0m\u001b[0;34m\u001b[0m\u001b[0m\n\u001b[1;32m    384\u001b[0m             \u001b[0;31m# Py2 raises this as a BaseSSLError, Py3 raises it as socket timeout.\u001b[0m\u001b[0;34m\u001b[0m\u001b[0;34m\u001b[0m\u001b[0;34m\u001b[0m\u001b[0m\n",
      "\u001b[0;32m~/opt/anaconda3/lib/python3.8/site-packages/urllib3/connectionpool.py\u001b[0m in \u001b[0;36m_validate_conn\u001b[0;34m(self, conn)\u001b[0m\n\u001b[1;32m   1008\u001b[0m         \u001b[0;31m# Force connect early to allow us to validate the connection.\u001b[0m\u001b[0;34m\u001b[0m\u001b[0;34m\u001b[0m\u001b[0;34m\u001b[0m\u001b[0m\n\u001b[1;32m   1009\u001b[0m         \u001b[0;32mif\u001b[0m \u001b[0;32mnot\u001b[0m \u001b[0mgetattr\u001b[0m\u001b[0;34m(\u001b[0m\u001b[0mconn\u001b[0m\u001b[0;34m,\u001b[0m \u001b[0;34m\"sock\"\u001b[0m\u001b[0;34m,\u001b[0m \u001b[0;32mNone\u001b[0m\u001b[0;34m)\u001b[0m\u001b[0;34m:\u001b[0m  \u001b[0;31m# AppEngine might not have  `.sock`\u001b[0m\u001b[0;34m\u001b[0m\u001b[0;34m\u001b[0m\u001b[0m\n\u001b[0;32m-> 1010\u001b[0;31m             \u001b[0mconn\u001b[0m\u001b[0;34m.\u001b[0m\u001b[0mconnect\u001b[0m\u001b[0;34m(\u001b[0m\u001b[0;34m)\u001b[0m\u001b[0;34m\u001b[0m\u001b[0;34m\u001b[0m\u001b[0m\n\u001b[0m\u001b[1;32m   1011\u001b[0m \u001b[0;34m\u001b[0m\u001b[0m\n\u001b[1;32m   1012\u001b[0m         \u001b[0;32mif\u001b[0m \u001b[0;32mnot\u001b[0m \u001b[0mconn\u001b[0m\u001b[0;34m.\u001b[0m\u001b[0mis_verified\u001b[0m\u001b[0;34m:\u001b[0m\u001b[0;34m\u001b[0m\u001b[0;34m\u001b[0m\u001b[0m\n",
      "\u001b[0;32m~/opt/anaconda3/lib/python3.8/site-packages/urllib3/connection.py\u001b[0m in \u001b[0;36mconnect\u001b[0;34m(self)\u001b[0m\n\u001b[1;32m    409\u001b[0m             \u001b[0mcontext\u001b[0m\u001b[0;34m.\u001b[0m\u001b[0mload_default_certs\u001b[0m\u001b[0;34m(\u001b[0m\u001b[0;34m)\u001b[0m\u001b[0;34m\u001b[0m\u001b[0;34m\u001b[0m\u001b[0m\n\u001b[1;32m    410\u001b[0m \u001b[0;34m\u001b[0m\u001b[0m\n\u001b[0;32m--> 411\u001b[0;31m         self.sock = ssl_wrap_socket(\n\u001b[0m\u001b[1;32m    412\u001b[0m             \u001b[0msock\u001b[0m\u001b[0;34m=\u001b[0m\u001b[0mconn\u001b[0m\u001b[0;34m,\u001b[0m\u001b[0;34m\u001b[0m\u001b[0;34m\u001b[0m\u001b[0m\n\u001b[1;32m    413\u001b[0m             \u001b[0mkeyfile\u001b[0m\u001b[0;34m=\u001b[0m\u001b[0mself\u001b[0m\u001b[0;34m.\u001b[0m\u001b[0mkey_file\u001b[0m\u001b[0;34m,\u001b[0m\u001b[0;34m\u001b[0m\u001b[0;34m\u001b[0m\u001b[0m\n",
      "\u001b[0;32m~/opt/anaconda3/lib/python3.8/site-packages/urllib3/util/ssl_.py\u001b[0m in \u001b[0;36mssl_wrap_socket\u001b[0;34m(sock, keyfile, certfile, cert_reqs, ca_certs, server_hostname, ssl_version, ciphers, ssl_context, ca_cert_dir, key_password, ca_cert_data, tls_in_tls)\u001b[0m\n\u001b[1;32m    426\u001b[0m \u001b[0;34m\u001b[0m\u001b[0m\n\u001b[1;32m    427\u001b[0m     \u001b[0;32mif\u001b[0m \u001b[0msend_sni\u001b[0m\u001b[0;34m:\u001b[0m\u001b[0;34m\u001b[0m\u001b[0;34m\u001b[0m\u001b[0m\n\u001b[0;32m--> 428\u001b[0;31m         ssl_sock = _ssl_wrap_socket_impl(\n\u001b[0m\u001b[1;32m    429\u001b[0m             \u001b[0msock\u001b[0m\u001b[0;34m,\u001b[0m \u001b[0mcontext\u001b[0m\u001b[0;34m,\u001b[0m \u001b[0mtls_in_tls\u001b[0m\u001b[0;34m,\u001b[0m \u001b[0mserver_hostname\u001b[0m\u001b[0;34m=\u001b[0m\u001b[0mserver_hostname\u001b[0m\u001b[0;34m\u001b[0m\u001b[0;34m\u001b[0m\u001b[0m\n\u001b[1;32m    430\u001b[0m         )\n",
      "\u001b[0;32m~/opt/anaconda3/lib/python3.8/site-packages/urllib3/util/ssl_.py\u001b[0m in \u001b[0;36m_ssl_wrap_socket_impl\u001b[0;34m(sock, ssl_context, tls_in_tls, server_hostname)\u001b[0m\n\u001b[1;32m    470\u001b[0m \u001b[0;34m\u001b[0m\u001b[0m\n\u001b[1;32m    471\u001b[0m     \u001b[0;32mif\u001b[0m \u001b[0mserver_hostname\u001b[0m\u001b[0;34m:\u001b[0m\u001b[0;34m\u001b[0m\u001b[0;34m\u001b[0m\u001b[0m\n\u001b[0;32m--> 472\u001b[0;31m         \u001b[0;32mreturn\u001b[0m \u001b[0mssl_context\u001b[0m\u001b[0;34m.\u001b[0m\u001b[0mwrap_socket\u001b[0m\u001b[0;34m(\u001b[0m\u001b[0msock\u001b[0m\u001b[0;34m,\u001b[0m \u001b[0mserver_hostname\u001b[0m\u001b[0;34m=\u001b[0m\u001b[0mserver_hostname\u001b[0m\u001b[0;34m)\u001b[0m\u001b[0;34m\u001b[0m\u001b[0;34m\u001b[0m\u001b[0m\n\u001b[0m\u001b[1;32m    473\u001b[0m     \u001b[0;32melse\u001b[0m\u001b[0;34m:\u001b[0m\u001b[0;34m\u001b[0m\u001b[0;34m\u001b[0m\u001b[0m\n\u001b[1;32m    474\u001b[0m         \u001b[0;32mreturn\u001b[0m \u001b[0mssl_context\u001b[0m\u001b[0;34m.\u001b[0m\u001b[0mwrap_socket\u001b[0m\u001b[0;34m(\u001b[0m\u001b[0msock\u001b[0m\u001b[0;34m)\u001b[0m\u001b[0;34m\u001b[0m\u001b[0;34m\u001b[0m\u001b[0m\n",
      "\u001b[0;32m~/opt/anaconda3/lib/python3.8/ssl.py\u001b[0m in \u001b[0;36mwrap_socket\u001b[0;34m(self, sock, server_side, do_handshake_on_connect, suppress_ragged_eofs, server_hostname, session)\u001b[0m\n\u001b[1;32m    498\u001b[0m         \u001b[0;31m# SSLSocket class handles server_hostname encoding before it calls\u001b[0m\u001b[0;34m\u001b[0m\u001b[0;34m\u001b[0m\u001b[0;34m\u001b[0m\u001b[0m\n\u001b[1;32m    499\u001b[0m         \u001b[0;31m# ctx._wrap_socket()\u001b[0m\u001b[0;34m\u001b[0m\u001b[0;34m\u001b[0m\u001b[0;34m\u001b[0m\u001b[0m\n\u001b[0;32m--> 500\u001b[0;31m         return self.sslsocket_class._create(\n\u001b[0m\u001b[1;32m    501\u001b[0m             \u001b[0msock\u001b[0m\u001b[0;34m=\u001b[0m\u001b[0msock\u001b[0m\u001b[0;34m,\u001b[0m\u001b[0;34m\u001b[0m\u001b[0;34m\u001b[0m\u001b[0m\n\u001b[1;32m    502\u001b[0m             \u001b[0mserver_side\u001b[0m\u001b[0;34m=\u001b[0m\u001b[0mserver_side\u001b[0m\u001b[0;34m,\u001b[0m\u001b[0;34m\u001b[0m\u001b[0;34m\u001b[0m\u001b[0m\n",
      "\u001b[0;32m~/opt/anaconda3/lib/python3.8/ssl.py\u001b[0m in \u001b[0;36m_create\u001b[0;34m(cls, sock, server_side, do_handshake_on_connect, suppress_ragged_eofs, server_hostname, context, session)\u001b[0m\n\u001b[1;32m   1038\u001b[0m                         \u001b[0;31m# non-blocking\u001b[0m\u001b[0;34m\u001b[0m\u001b[0;34m\u001b[0m\u001b[0;34m\u001b[0m\u001b[0m\n\u001b[1;32m   1039\u001b[0m                         \u001b[0;32mraise\u001b[0m \u001b[0mValueError\u001b[0m\u001b[0;34m(\u001b[0m\u001b[0;34m\"do_handshake_on_connect should not be specified for non-blocking sockets\"\u001b[0m\u001b[0;34m)\u001b[0m\u001b[0;34m\u001b[0m\u001b[0;34m\u001b[0m\u001b[0m\n\u001b[0;32m-> 1040\u001b[0;31m                     \u001b[0mself\u001b[0m\u001b[0;34m.\u001b[0m\u001b[0mdo_handshake\u001b[0m\u001b[0;34m(\u001b[0m\u001b[0;34m)\u001b[0m\u001b[0;34m\u001b[0m\u001b[0;34m\u001b[0m\u001b[0m\n\u001b[0m\u001b[1;32m   1041\u001b[0m             \u001b[0;32mexcept\u001b[0m \u001b[0;34m(\u001b[0m\u001b[0mOSError\u001b[0m\u001b[0;34m,\u001b[0m \u001b[0mValueError\u001b[0m\u001b[0;34m)\u001b[0m\u001b[0;34m:\u001b[0m\u001b[0;34m\u001b[0m\u001b[0;34m\u001b[0m\u001b[0m\n\u001b[1;32m   1042\u001b[0m                 \u001b[0mself\u001b[0m\u001b[0;34m.\u001b[0m\u001b[0mclose\u001b[0m\u001b[0;34m(\u001b[0m\u001b[0;34m)\u001b[0m\u001b[0;34m\u001b[0m\u001b[0;34m\u001b[0m\u001b[0m\n",
      "\u001b[0;32m~/opt/anaconda3/lib/python3.8/ssl.py\u001b[0m in \u001b[0;36mdo_handshake\u001b[0;34m(self, block)\u001b[0m\n\u001b[1;32m   1307\u001b[0m             \u001b[0;32mif\u001b[0m \u001b[0mtimeout\u001b[0m \u001b[0;34m==\u001b[0m \u001b[0;36m0.0\u001b[0m \u001b[0;32mand\u001b[0m \u001b[0mblock\u001b[0m\u001b[0;34m:\u001b[0m\u001b[0;34m\u001b[0m\u001b[0;34m\u001b[0m\u001b[0m\n\u001b[1;32m   1308\u001b[0m                 \u001b[0mself\u001b[0m\u001b[0;34m.\u001b[0m\u001b[0msettimeout\u001b[0m\u001b[0;34m(\u001b[0m\u001b[0;32mNone\u001b[0m\u001b[0;34m)\u001b[0m\u001b[0;34m\u001b[0m\u001b[0;34m\u001b[0m\u001b[0m\n\u001b[0;32m-> 1309\u001b[0;31m             \u001b[0mself\u001b[0m\u001b[0;34m.\u001b[0m\u001b[0m_sslobj\u001b[0m\u001b[0;34m.\u001b[0m\u001b[0mdo_handshake\u001b[0m\u001b[0;34m(\u001b[0m\u001b[0;34m)\u001b[0m\u001b[0;34m\u001b[0m\u001b[0;34m\u001b[0m\u001b[0m\n\u001b[0m\u001b[1;32m   1310\u001b[0m         \u001b[0;32mfinally\u001b[0m\u001b[0;34m:\u001b[0m\u001b[0;34m\u001b[0m\u001b[0;34m\u001b[0m\u001b[0m\n\u001b[1;32m   1311\u001b[0m             \u001b[0mself\u001b[0m\u001b[0;34m.\u001b[0m\u001b[0msettimeout\u001b[0m\u001b[0;34m(\u001b[0m\u001b[0mtimeout\u001b[0m\u001b[0;34m)\u001b[0m\u001b[0;34m\u001b[0m\u001b[0;34m\u001b[0m\u001b[0m\n",
      "\u001b[0;31mKeyboardInterrupt\u001b[0m: "
     ]
    }
   ],
   "source": [
    "token = get_access_token(AMADEUS_CLIENT_ID, AMADEUS_CLIENT_SECRET)\n",
    "city_data = {orig: [] for orig in iata_codes}\n",
    "\n",
    "for origin, destination in itertools.permutations(iata_codes, 2):\n",
    "    for d in dates:\n",
    "        try:\n",
    "            data = get_flight_prices(token, origin, destination, d)\n",
    "            recs = parse_response(data)\n",
    "            if recs:\n",
    "                city_data[origin].extend(recs)\n",
    "        except Exception:\n",
    "            continue\n",
    "    print(f\"{origin}: {len(city_data[origin])} Datensätze gesammelt\")"
   ]
  },
  {
   "cell_type": "code",
   "execution_count": 44,
   "id": "348def8108431bcc",
   "metadata": {
    "ExecuteTime": {
     "end_time": "2025-06-08T18:08:01.981758Z",
     "start_time": "2025-06-08T18:08:01.933318Z"
    }
   },
   "outputs": [
    {
     "name": "stdout",
     "output_type": "stream",
     "text": [
      "Gespeichert: PricesCSV/amadeus_prices_IST.csv (147 Einträge)\n",
      "Keine Daten für BER\n",
      "Keine Daten für LHR\n",
      "Keine Daten für CDG\n",
      "Keine Daten für FCO\n",
      "Keine Daten für MAD\n",
      "Keine Daten für KBP\n",
      "Keine Daten für WAW\n",
      "Keine Daten für OTP\n",
      "Keine Daten für AMS\n",
      "Keine Daten für ARN\n",
      "Keine Daten für BRU\n",
      "Keine Daten für ATH\n",
      "Keine Daten für PRG\n",
      "Keine Daten für LIS\n",
      "Keine Daten für BUD\n",
      "Keine Daten für BEG\n",
      "Keine Daten für VIE\n",
      "Keine Daten für ZRH\n",
      "Keine Daten für SOF\n",
      "Keine Daten für CPH\n",
      "Keine Daten für HEL\n",
      "Keine Daten für OSL\n",
      "Keine Daten für DUB\n"
     ]
    }
   ],
   "source": [
    "os.makedirs('PricesCSV', exist_ok=True)\n",
    "for origin, recs in city_data.items():\n",
    "    if not recs:\n",
    "        print(f\"Keine Daten für {origin}\")\n",
    "        continue\n",
    "    df = pd.DataFrame(recs)\n",
    "    path = os.path.join('PricesCSV', f\"amadeus_prices_{origin}.csv\")\n",
    "    df.to_csv(path, index=False)\n",
    "    print(f\"Gespeichert: {path} ({len(df)} Einträge)\")\n"
   ]
  },
  {
   "cell_type": "code",
   "execution_count": 45,
   "id": "3c909bac938087df",
   "metadata": {
    "ExecuteTime": {
     "end_time": "2025-06-08T18:08:15.985019Z",
     "start_time": "2025-06-08T18:08:15.935477Z"
    }
   },
   "outputs": [
    {
     "data": {
      "text/html": [
       "<div>\n",
       "<style scoped>\n",
       "    .dataframe tbody tr th:only-of-type {\n",
       "        vertical-align: middle;\n",
       "    }\n",
       "\n",
       "    .dataframe tbody tr th {\n",
       "        vertical-align: top;\n",
       "    }\n",
       "\n",
       "    .dataframe thead th {\n",
       "        text-align: right;\n",
       "    }\n",
       "</style>\n",
       "<table border=\"1\" class=\"dataframe\">\n",
       "  <thead>\n",
       "    <tr style=\"text-align: right;\">\n",
       "      <th></th>\n",
       "      <th>FetchedAt</th>\n",
       "      <th>Origin</th>\n",
       "      <th>Destination</th>\n",
       "      <th>DepartureDate</th>\n",
       "      <th>MinPrice</th>\n",
       "      <th>Currency</th>\n",
       "      <th>NumberOfSegments</th>\n",
       "    </tr>\n",
       "  </thead>\n",
       "  <tbody>\n",
       "    <tr>\n",
       "      <th>0</th>\n",
       "      <td>2025-06-08T17:14:19.235249</td>\n",
       "      <td>IST</td>\n",
       "      <td>BER</td>\n",
       "      <td>2025-06-08T20:50:00</td>\n",
       "      <td>175.21</td>\n",
       "      <td>EUR</td>\n",
       "      <td>2</td>\n",
       "    </tr>\n",
       "    <tr>\n",
       "      <th>1</th>\n",
       "      <td>2025-06-08T17:14:19.235266</td>\n",
       "      <td>IST</td>\n",
       "      <td>BER</td>\n",
       "      <td>2025-06-08T20:50:00</td>\n",
       "      <td>175.21</td>\n",
       "      <td>EUR</td>\n",
       "      <td>2</td>\n",
       "    </tr>\n",
       "    <tr>\n",
       "      <th>2</th>\n",
       "      <td>2025-06-08T17:14:19.235271</td>\n",
       "      <td>SAW</td>\n",
       "      <td>BER</td>\n",
       "      <td>2025-06-08T21:00:00</td>\n",
       "      <td>182.00</td>\n",
       "      <td>EUR</td>\n",
       "      <td>2</td>\n",
       "    </tr>\n",
       "    <tr>\n",
       "      <th>3</th>\n",
       "      <td>2025-06-08T17:14:19.235276</td>\n",
       "      <td>SAW</td>\n",
       "      <td>BER</td>\n",
       "      <td>2025-06-08T22:20:00</td>\n",
       "      <td>191.40</td>\n",
       "      <td>EUR</td>\n",
       "      <td>2</td>\n",
       "    </tr>\n",
       "    <tr>\n",
       "      <th>4</th>\n",
       "      <td>2025-06-08T17:14:19.235280</td>\n",
       "      <td>SAW</td>\n",
       "      <td>BER</td>\n",
       "      <td>2025-06-08T22:20:00</td>\n",
       "      <td>191.40</td>\n",
       "      <td>EUR</td>\n",
       "      <td>2</td>\n",
       "    </tr>\n",
       "  </tbody>\n",
       "</table>\n",
       "</div>"
      ],
      "text/plain": [
       "                    FetchedAt Origin Destination        DepartureDate  \\\n",
       "0  2025-06-08T17:14:19.235249    IST         BER  2025-06-08T20:50:00   \n",
       "1  2025-06-08T17:14:19.235266    IST         BER  2025-06-08T20:50:00   \n",
       "2  2025-06-08T17:14:19.235271    SAW         BER  2025-06-08T21:00:00   \n",
       "3  2025-06-08T17:14:19.235276    SAW         BER  2025-06-08T22:20:00   \n",
       "4  2025-06-08T17:14:19.235280    SAW         BER  2025-06-08T22:20:00   \n",
       "\n",
       "   MinPrice Currency  NumberOfSegments  \n",
       "0    175.21      EUR                 2  \n",
       "1    175.21      EUR                 2  \n",
       "2    182.00      EUR                 2  \n",
       "3    191.40      EUR                 2  \n",
       "4    191.40      EUR                 2  "
      ]
     },
     "metadata": {},
     "output_type": "display_data"
    }
   ],
   "source": [
    "import glob\n",
    "files = sorted(glob.glob('PricesCSV/amadeus_prices_*.csv'))\n",
    "if files:\n",
    "    display(pd.read_csv(files[0]).head())\n",
    "else:\n",
    "    print(\"Keine CSVs in PricesCSV gefunden.\")"
   ]
  }
 ],
 "metadata": {
  "kernelspec": {
   "display_name": "Python 3",
   "language": "python",
   "name": "python3"
  },
  "language_info": {
   "codemirror_mode": {
    "name": "ipython",
    "version": 2
   },
   "file_extension": ".py",
   "mimetype": "text/x-python",
   "name": "python",
   "nbconvert_exporter": "python",
   "pygments_lexer": "ipython2",
   "version": "2.7.6"
  }
 },
 "nbformat": 4,
 "nbformat_minor": 5
}
